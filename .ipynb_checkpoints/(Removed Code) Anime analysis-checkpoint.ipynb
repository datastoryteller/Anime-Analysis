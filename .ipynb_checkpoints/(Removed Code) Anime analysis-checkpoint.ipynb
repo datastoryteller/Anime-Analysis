{
 "cells": [
  {
   "cell_type": "code",
   "execution_count": null,
   "metadata": {},
   "outputs": [],
   "source": [
    "#df['Rating'] = pd.to_numeric(df['Votes'],errors='coerce')\n",
    "#df['Votes'] = pd.to_numeric(df['Votes'],errors='coerce')\n",
    "#df['Episodes'] = pd.to_numeric(df['Votes'],errors='coerce')\n",
    "#df['Duration'] = pd.to_numeric(df['Votes'],errors='coerce')"
   ]
  },
  {
   "cell_type": "code",
   "execution_count": null,
   "metadata": {},
   "outputs": [],
   "source": [
    "def start_end_years(years):\n",
    "    start_years = []\n",
    "    end_years = []\n",
    "    for i in range(0, len(years)):\n",
    "        if years[i].find('TBA') != -1:\n",
    "            start_years.append('TBA')\n",
    "            end_years.append('TBA')\n",
    "        elif years[i].find('-') != -1:\n",
    "            if years[i].find('?') != -1:\n",
    "                start_years.append(re.findall('\\d+', years[i])[0])\n",
    "                end_years.append('?')\n",
    "            else:\n",
    "                start_years.append(re.findall('\\d+', years[i])[0])\n",
    "                end_years.append(re.findall('\\d+', years[i])[1])\n",
    "        else:\n",
    "            if re.findall('\\d+', years[i]):\n",
    "                start_years.append(re.findall('\\d+', years[i])[0])\n",
    "                end_years.append(re.findall('\\d+', years[i])[0])\n",
    "            \n",
    "    return start_years, end_years\n",
    "\n",
    "start_years, end_years = start_end_years(list(df['Year']))\n",
    "\n",
    "start_years = pd.Series(start_years, name='Start Year')\n",
    "end_years = pd.Series(end_years, name='End Year')\n",
    "\n",
    "df = pd.concat([df, start_years], axis=1)\n",
    "df = pd.concat([df, end_years], axis=1)\n",
    "\n",
    "df.drop(['Year'], axis=1, inplace=True)\n",
    "\n",
    "cols = ['Rating','Votes','Title','Alt Title','Format','Episodes','Duration' ,'Start Year','End Year','Completed','Studio','Tags','Description']\n",
    "df = df[cols]"
   ]
  },
  {
   "cell_type": "code",
   "execution_count": null,
   "metadata": {},
   "outputs": [],
   "source": [
    "def split_list(stringy):\n",
    "    if stringy != 'nan':\n",
    "        stringy = str(stringy).replace(\"'\", \"\").replace(\"[\", \"\").replace( \"]\", \"\")\n",
    "        return str(stringy).split(', ')\n",
    "    else:\n",
    "        return np.NaN\n",
    "\n",
    "df['Studio'] = df['Studio'].apply(split_list)\n",
    "df['Tags'] = df['Tags'].apply(split_list)"
   ]
  },
  {
   "cell_type": "code",
   "execution_count": null,
   "metadata": {},
   "outputs": [],
   "source": [
    "def nullifier(each):\n",
    "    if str(each) == 'nan':\n",
    "        return np.NaN\n",
    "    else:\n",
    "        return '%2.0f' % float(each)\n",
    "\n",
    "df['Start Year'] = df['Start Year'].apply(nullifier)\n",
    "df['End Year'] = df['End Year'].apply(nullifier)\n",
    "df['Votes'] = df['Votes'].apply(nullifier)\n",
    "df['Episodes'] = df['Episodes'].apply(nullifier)\n",
    "df['Duration'] = df['Duration'].apply(nullifier)"
   ]
  },
  {
   "cell_type": "code",
   "execution_count": null,
   "metadata": {},
   "outputs": [],
   "source": [
    "def split_list(stringy):\n",
    "    if stringy != 'nan':\n",
    "        return str(stringy).split(', ')\n",
    "    else:\n",
    "        return np.NaN\n",
    "\n",
    "df['Studio'] = df['Studio'].astype(str).str.replace(\"'\", \"\")\n",
    "df['Studio'] = df['Studio'].astype(str).str.replace(\"[\", \"\")\n",
    "df['Studio'] = df['Studio'].astype(str).str.replace(\"]\", \"\")\n",
    "df['Tags'] = df['Tags'].astype(str).str.replace(\"'\", \"\")\n",
    "df['Tags'] = df['Tags'].astype(str).str.replace(\"[\", \"\")\n",
    "df['Tags'] = df['Tags'].astype(str).str.replace(\"]\", \"\")"
   ]
  },
  {
   "cell_type": "code",
   "execution_count": null,
   "metadata": {},
   "outputs": [],
   "source": [
    "def backslash_remover(each):\n",
    "    listy = []\n",
    "    if type(each) != float:\n",
    "        for tag in list(each):\n",
    "            listy.append(tag.replace(\"\\\\n\", \"\").replace(\"\\\\\", \"\"))\n",
    "        return listy\n",
    "    else:\n",
    "        return np.NaN\n",
    "\n",
    "df['Tags'] = df['Tags'].apply(backslash_remover)"
   ]
  },
  {
   "cell_type": "code",
   "execution_count": null,
   "metadata": {},
   "outputs": [],
   "source": [
    "missing_values = [\"na\", \"['na']\", \"['nan']\"]\n",
    "#df = pd.read_csv('./anime_list1.csv', dtype = {'Votes':'float32', 'Episodes':'float16', 'Duration':'float16', 'Completed':'bool'}, na_values=missing_values, sep=';')\n",
    "#df.to_csv(\"anime_list1.csv\", sep=';', index=False)"
   ]
  },
  {
   "cell_type": "code",
   "execution_count": null,
   "metadata": {},
   "outputs": [],
   "source": [
    "def split_list(stringy):\n",
    "    if stringy != np.NaN:\n",
    "        stringy = str(stringy).replace(\"'\", \"\").replace(\"[\", \"\").replace( \"]\", \"\")\n",
    "        return str(stringy).split(', ')\n",
    "    else:\n",
    "        return np.NaN\n",
    "\n",
    "def nullifier(each):\n",
    "    if 'nan' in each:\n",
    "        return np.NaN    \n",
    "    else:\n",
    "        return each\n",
    "    \n",
    "df['Studio'] = df['Studio'].apply(split_list).apply(nullifier)\n",
    "df['Tags'] = df['Tags'].apply(split_list).apply(nullifier)\n",
    "\n",
    "df['Format'] = df['Format'].astype('category')\n",
    "df['Start Year'] = df['Start Year'].astype('category')\n",
    "df['End Year'] = df['End Year'].astype('category')\n",
    "\n",
    "def formatter(each):\n",
    "    if str(each) == 'nan':\n",
    "        return np.NaN\n",
    "    else:\n",
    "        return '%2.0f' % float(each)\n",
    "\n",
    "df['Start Year'] = df['Start Year'].apply(formatter)\n",
    "df['End Year'] = df['End Year'].apply(formatter)\n",
    "df['Votes'] = df['Votes'].apply(formatter)\n",
    "df['Episodes'] = df['Episodes'].apply(formatter)\n",
    "df['Duration'] = df['Duration'].apply(formatter)"
   ]
  },
  {
   "cell_type": "code",
   "execution_count": null,
   "metadata": {},
   "outputs": [],
   "source": [
    "df['End Year'] = df['End Year'].astype('category')"
   ]
  },
  {
   "cell_type": "code",
   "execution_count": null,
   "metadata": {},
   "outputs": [],
   "source": [
    "def spaceRemover(tags):\n",
    "    tags_list = []\n",
    "    if type(tags) != float:\n",
    "        for each in tags:\n",
    "            if each[0] == ' ':\n",
    "                tags_list.append(each[1:])\n",
    "            else:\n",
    "                tags_list.append(each)\n",
    "        return tags_list\n",
    "    else:\n",
    "        return np.NaN"
   ]
  },
  {
   "cell_type": "code",
   "execution_count": null,
   "metadata": {},
   "outputs": [],
   "source": [
    "def unwantedRemover(tags):\n",
    "    tags_list = []\n",
    "    if type(tags) != float:\n",
    "        for each in tags:\n",
    "            if each[0] == '\"':\n",
    "                if each[1] == ' ':\n",
    "                    tags_list.append(each[2:-1])\n",
    "                else:\n",
    "                    tags_list.append(each[1:-1])\n",
    "            else:\n",
    "                tags_list.append(each)\n",
    "        return tags_list\n",
    "    else:\n",
    "        return np.NaN"
   ]
  },
  {
   "cell_type": "code",
   "execution_count": null,
   "metadata": {},
   "outputs": [],
   "source": [
    "def nanInArray(std):\n",
    "    if type(std) != float\n",
    "    for each in std:\n",
    "        if each == np.NaN:\n",
    "            return np.NaN\n",
    "        else:\n",
    "            return [each]\n",
    "        \n",
    "df['Studio'] = df['Studio'].apply(nanInArray)"
   ]
  },
  {
   "cell_type": "code",
   "execution_count": null,
   "metadata": {},
   "outputs": [],
   "source": [
    "%%time\n",
    "tag_count = []\n",
    "count = 0\n",
    "for tag in tags:\n",
    "    for row in df['Tags']:\n",
    "        if type(row) != float:\n",
    "            if tag in row:\n",
    "                count += 1\n",
    "    tag_count.append([tag, count])\n",
    "    count = 0"
   ]
  },
  {
   "cell_type": "code",
   "execution_count": null,
   "metadata": {},
   "outputs": [],
   "source": [
    "%matplotlib inline\n",
    "ax = df['Format'].value_counts().plot(kind='bar')\n",
    "ax.set_xlabel('Format', fontsize=12)\n",
    "_ = ax.set_ylabel('Number of Pieces', fontsize=12)"
   ]
  },
  {
   "cell_type": "code",
   "execution_count": null,
   "metadata": {},
   "outputs": [],
   "source": [
    "bins = [0, 10, 20, 30, 40, 50, 60, 70, 100, 300, 500, 1000]\n",
    "ax = pd.cut(list(df.loc[(df['Format'] == 'TV') & (df['Rating'] >= 7), 'Episodes']), bins, right=False).value_counts().plot(kind='bar')\n",
    "ax.set_xlabel('Number of Episodes', fontsize=12)\n",
    "_ = ax.set_ylabel('Number of Good Pieces', fontsize=12)\n",
    "\n",
    "bins = [0, 10, 20, 30, 40, 50, 60, 70, 100, 300, 500, 1000]\n",
    "ax = pd.cut(list(df.loc[(df['Format'] == 'TV') & (df['Rating'] < 7), 'Episodes']), bins, right=False).value_counts().plot(kind='bar')\n",
    "ax.set_xlabel('Number of Episodes', fontsize=12)\n",
    "_ = ax.set_ylabel('Number of Mediocre Pieces', fontsize=12)\n",
    "\n",
    "good = pd.cut(list(df.loc[(df['Format'] == 'TV') & (df['Rating'] >= 7), 'Episodes']), bins, right=False).value_counts()\n",
    "mediocre = pd.cut(list(df.loc[(df['Format'] == 'TV') & (df['Rating'] < 7), 'Episodes']), bins, right=False).value_counts() \n",
    "ratio = [int(b) / int(m) for b,m in zip(good, mediocre)]\n",
    "ax = pd.Series(ratio, index=good.index, name='Ratio').plot(kind='bar')\n",
    "ax.set_xlabel('Number of Episodes', fontsize=12)\n",
    "_ = ax.set_ylabel('Ratio of Good/Mediocre', fontsize=12)"
   ]
  },
  {
   "cell_type": "code",
   "execution_count": null,
   "metadata": {},
   "outputs": [],
   "source": [
    "ax = df.loc[df['Rating'] >= 7, 'Start Year'].value_counts().head(20).plot(kind='bar')\n",
    "ax.set_xlabel('Year', fontsize=12)\n",
    "_ = ax.set_ylabel('Number of Highly Rated Anime\\n (Rating >= 7)', fontsize=12)"
   ]
  },
  {
   "cell_type": "code",
   "execution_count": null,
   "metadata": {},
   "outputs": [],
   "source": [
    "df.groupby('Format')['Rating'].mean()\n",
    "\n",
    "df.groupby('Format')['Rating'].median()"
   ]
  },
  {
   "cell_type": "code",
   "execution_count": null,
   "metadata": {},
   "outputs": [],
   "source": [
    "df.loc[(np.array(contains('Studio', ['Bones']))) & (np.array(contains('Tags', ['Drama']))) & (df['Rating'] >= 9)]"
   ]
  },
  {
   "cell_type": "code",
   "execution_count": null,
   "metadata": {},
   "outputs": [],
   "source": [
    "def ratingGroupSplitter(df, ind):\n",
    "    if df.loc[ind, 'Rating'] == np.NaN:\n",
    "        return 'Null'\n",
    "    elif df.loc[ind, 'Rating'] >= 7:\n",
    "        return 'Good'\n",
    "    else:\n",
    "        return 'Mediocre'\n",
    "\n",
    "df.groupby(lambda x: ratingGroupSplitter(df, x))['Title'].count()"
   ]
  },
  {
   "cell_type": "code",
   "execution_count": null,
   "metadata": {},
   "outputs": [],
   "source": [
    "bins = range(1, 11)\n",
    "sns.set_style(\"whitegrid\")\n",
    "plt.figure(figsize=(10,6))\n",
    "rating_bins = sns.barplot(x='index', y=0, data=pd.DataFrame(pd.cut(list(df['Rating']), bins, right=False).value_counts()).reset_index())\n",
    "_ = rating_bins.set(xlabel='Rating', ylabel='Number of Pieces', title='Number of pieces by Rating')"
   ]
  },
  {
   "cell_type": "code",
   "execution_count": null,
   "metadata": {},
   "outputs": [],
   "source": [
    "bins = range(1, 11)\n",
    "sns.set_style(\"whitegrid\")\n",
    "plt.figure(figsize=(10,6))\n",
    "ax = pd.cut(list(df['Rating']), bins, right=False).value_counts().plot(kind='bar')\n",
    "ax.set_xlabel('Rating', fontsize=12)\n",
    "_ = ax.set_ylabel('Number of Pieces', fontsize=12)"
   ]
  },
  {
   "cell_type": "markdown",
   "metadata": {},
   "source": [
    "#### Top Rated Anime Studio Rating Barplot"
   ]
  },
  {
   "cell_type": "code",
   "execution_count": null,
   "metadata": {},
   "outputs": [],
   "source": [
    "ax = plt.subplots(figsize=(3,4),dpi=300)\n",
    "ax = sns.barplot(y='Studio', x='Rating', data=studio_df.sort_values('Rating', ascending=False), palette='pastel')\n",
    "ax.set_xlabel(\"Mean Rating\",fontsize=6)\n",
    "ax.set_ylabel(\"\",fontsize=6)\n",
    "ax.tick_params(labelsize=4)\n",
    "plt.xlim(8.94, 9.42)\n",
    "\n",
    "count = list(studio_df.sort_values('Rating', ascending=False)['Count'])\n",
    "rating = list(studio_df.sort_values('Rating', ascending=False)['Rating'])\n",
    "\n",
    "plt.text(x = 8.938, y = -1, s = \"Count\", size = 4)\n",
    "\n",
    "for i in range(len(rating)):\n",
    "    plt.text(x = 8.945, y = i+0.2, s = count[i], size = 3)\n",
    "    plt.text(x = rating[i]+0.005, y = i+0.2, s = \"{0:.3f}\".format(round(rating[i], 3)), size = 3.5)\n",
    "    \n",
    "plt.tight_layout()\n",
    "#plt.savefig('images/top_rated_studio_rating.png')"
   ]
  },
  {
   "cell_type": "markdown",
   "metadata": {},
   "source": [
    "#### Top Rated Anime Tags Count Barplot"
   ]
  },
  {
   "cell_type": "code",
   "execution_count": null,
   "metadata": {},
   "outputs": [],
   "source": [
    "ax = plt.subplots(figsize=(3,4),dpi=300)\n",
    "ax = sns.barplot(y='Tags', x='Count', data=tags_df.sort_values('Count', ascending=False).head(30), palette='pastel')\n",
    "ax.set_xlabel(\"Count\",fontsize=6)\n",
    "ax.set_ylabel(\"\",fontsize=6)\n",
    "ax.tick_params(labelsize=4)\n",
    "plt.xlim(0, 75)\n",
    "\n",
    "count = list(tags_df.sort_values('Count', ascending=False)['Count'])[0:30]\n",
    "\n",
    "for i in range(len(count)):\n",
    "    #plt.text(x = 0.1 , y = i+0.2, s = \"{0:.3f}\".format(round(rating[i], 3)), size = 3)\n",
    "    plt.text(x = count[i]+1, y = i+0.1, s = count[i], size = 3.5)\n",
    "    \n",
    "plt.tight_layout()\n",
    "#plt.savefig('images/top_rated_tags_count.png')"
   ]
  },
  {
   "cell_type": "markdown",
   "metadata": {},
   "source": [
    "#### Duration correlation"
   ]
  },
  {
   "cell_type": "code",
   "execution_count": null,
   "metadata": {},
   "outputs": [],
   "source": [
    "plt.scatter(df.loc[df['Format'] == 'Movie', 'Duration'], df.loc[df['Format'] == 'Movie', 'Rating'])\n",
    "m = df.loc[df['Format'] == 'Movie', 'Duration'].corr(df.loc[df['Format'] == 'Movie', 'Rating'])\n",
    "\n",
    "linear_regressor = LinearRegression()  # create object for the class\n",
    "mean_dur = df.loc[df['Format'] == 'Movie', 'Duration'].mean()\n",
    "mean_rat = df.loc[df['Format'] == 'Movie', 'Rating'].mean()\n",
    "linear_regressor.fit(df.loc[df['Format'] == 'Movie', 'Duration'].fillna(value=mean_dur).values.reshape(-1, 1), df.loc[df['Format'] == 'Movie', 'Rating'].fillna(value=mean_rat).values.reshape(-1, 1))  # perform linear regression\n",
    "Y_pred = linear_regressor.predict(df.loc[df['Format'] == 'Movie', 'Duration'].fillna(value=mean_dur).values.reshape(-1, 1))  # make predictions\n",
    "\n",
    "plt.plot(df.loc[df['Format'] == 'Movie', 'Duration'].fillna(value=mean_dur).values.reshape(-1, 1), Y_pred, color='red')\n",
    "plt.xlim(-2, 170)\n",
    "plt.ylim(1.5, 9.6)\n",
    "plt.xlabel('Duration (min)', fontsize=12)\n",
    "plt.ylabel('Rating', fontsize=12)\n",
    "print(m)"
   ]
  }
 ],
 "metadata": {
  "kernelspec": {
   "display_name": "Python 3",
   "language": "python",
   "name": "python3"
  },
  "language_info": {
   "codemirror_mode": {
    "name": "ipython",
    "version": 3
   },
   "file_extension": ".py",
   "mimetype": "text/x-python",
   "name": "python",
   "nbconvert_exporter": "python",
   "pygments_lexer": "ipython3",
   "version": "3.7.1"
  }
 },
 "nbformat": 4,
 "nbformat_minor": 2
}

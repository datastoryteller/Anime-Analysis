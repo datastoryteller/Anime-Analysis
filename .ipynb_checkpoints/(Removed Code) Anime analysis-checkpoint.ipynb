{
 "cells": [
  {
   "cell_type": "code",
   "execution_count": null,
   "metadata": {},
   "outputs": [],
   "source": [
    "'''def start_end_years(years):\n",
    "    start_years = []\n",
    "    end_years = []\n",
    "    for i in range(0, len(years)):\n",
    "        if years[i].find('TBA') != -1:\n",
    "            start_years.append('TBA')\n",
    "            end_years.append('TBA')\n",
    "        elif years[i].find('-') != -1:\n",
    "            if years[i].find('?') != -1:\n",
    "                start_years.append(re.findall('\\d+', years[i])[0])\n",
    "                end_years.append('?')\n",
    "            else:\n",
    "                start_years.append(re.findall('\\d+', years[i])[0])\n",
    "                end_years.append(re.findall('\\d+', years[i])[1])\n",
    "        else:\n",
    "            start_years.append(re.findall('\\d+', years[i])[0])\n",
    "            end_years.append(re.findall('\\d+', years[i])[0])\n",
    "            \n",
    "    return start_years, end_years\n",
    "\n",
    "start_years, end_years = start_end_years(list(df['Year']))\n",
    "\n",
    "start_years = pd.Series(start_years, name='Start Year')\n",
    "end_years = pd.Series(end_years, name='End Year')\n",
    "\n",
    "df = pd.concat([df, start_years], axis=1)\n",
    "df = pd.concat([df, end_years], axis=1)\n",
    "\n",
    "df.drop(['Year'], axis=1, inplace=True)\n",
    "\n",
    "cols = ['Rating','Votes','Title','Alt Title','Format','Episodes','Duration' ,'Start Year','End Year','Completed','Studio','Tags','Description']\n",
    "df = df[cols]'''"
   ]
  },
  {
   "cell_type": "code",
   "execution_count": null,
   "metadata": {},
   "outputs": [],
   "source": [
    "def nullifier(each):\n",
    "    if str(each) == 'nan':\n",
    "        return np.NaN\n",
    "    else:\n",
    "        return '%2.0f' % float(each)\n",
    "\n",
    "df['Start Year'] = df['Start Year'].apply(nullifier)\n",
    "df['End Year'] = df['End Year'].apply(nullifier)\n",
    "df['Votes'] = df['Votes'].apply(nullifier)\n",
    "df['Episodes'] = df['Episodes'].apply(nullifier)\n",
    "df['Duration'] = df['Duration'].apply(nullifier)"
   ]
  }
 ],
 "metadata": {
  "kernelspec": {
   "display_name": "Python 3",
   "language": "python",
   "name": "python3"
  },
  "language_info": {
   "codemirror_mode": {
    "name": "ipython",
    "version": 3
   },
   "file_extension": ".py",
   "mimetype": "text/x-python",
   "name": "python",
   "nbconvert_exporter": "python",
   "pygments_lexer": "ipython3",
   "version": "3.7.1"
  }
 },
 "nbformat": 4,
 "nbformat_minor": 2
}

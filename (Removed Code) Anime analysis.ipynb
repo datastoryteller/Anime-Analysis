{
 "cells": [
  {
   "cell_type": "code",
   "execution_count": null,
   "metadata": {},
   "outputs": [],
   "source": [
    "def start_end_years(years):\n",
    "    start_years = []\n",
    "    end_years = []\n",
    "    for i in range(0, len(years)):\n",
    "        if years[i].find('TBA') != -1:\n",
    "            start_years.append('TBA')\n",
    "            end_years.append('TBA')\n",
    "        elif years[i].find('-') != -1:\n",
    "            if years[i].find('?') != -1:\n",
    "                start_years.append(re.findall('\\d+', years[i])[0])\n",
    "                end_years.append('?')\n",
    "            else:\n",
    "                start_years.append(re.findall('\\d+', years[i])[0])\n",
    "                end_years.append(re.findall('\\d+', years[i])[1])\n",
    "        else:\n",
    "            start_years.append(re.findall('\\d+', years[i])[0])\n",
    "            end_years.append(re.findall('\\d+', years[i])[0])\n",
    "            \n",
    "    return start_years, end_years\n",
    "\n",
    "start_years, end_years = start_end_years(list(df['Year']))\n",
    "\n",
    "start_years = pd.Series(start_years, name='Start Year')\n",
    "end_years = pd.Series(end_years, name='End Year')\n",
    "\n",
    "df = pd.concat([df, start_years], axis=1)\n",
    "df = pd.concat([df, end_years], axis=1)\n",
    "\n",
    "df.drop(['Year'], axis=1, inplace=True)\n",
    "\n",
    "cols = ['Rating','Votes','Title','Alt Title','Format','Episodes','Duration' ,'Start Year','End Year','Completed','Studio','Tags','Description']\n",
    "df = df[cols]"
   ]
  },
  {
   "cell_type": "code",
   "execution_count": null,
   "metadata": {},
   "outputs": [],
   "source": [
    "def split_list(stringy):\n",
    "    if stringy != 'nan':\n",
    "        stringy = str(stringy).replace(\"'\", \"\").replace(\"[\", \"\").replace( \"]\", \"\")\n",
    "        return str(stringy).split(', ')\n",
    "    else:\n",
    "        return np.NaN\n",
    "\n",
    "df['Studio'] = df['Studio'].apply(split_list)\n",
    "df['Tags'] = df['Tags'].apply(split_list)"
   ]
  },
  {
   "cell_type": "code",
   "execution_count": null,
   "metadata": {},
   "outputs": [],
   "source": [
    "def nullifier(each):\n",
    "    if str(each) == 'nan':\n",
    "        return np.NaN\n",
    "    else:\n",
    "        return '%2.0f' % float(each)\n",
    "\n",
    "df['Start Year'] = df['Start Year'].apply(nullifier)\n",
    "df['End Year'] = df['End Year'].apply(nullifier)\n",
    "df['Votes'] = df['Votes'].apply(nullifier)\n",
    "df['Episodes'] = df['Episodes'].apply(nullifier)\n",
    "df['Duration'] = df['Duration'].apply(nullifier)"
   ]
  },
  {
   "cell_type": "code",
   "execution_count": null,
   "metadata": {},
   "outputs": [],
   "source": [
    "def split_list(stringy):\n",
    "    if stringy != 'nan':\n",
    "        return str(stringy).split(', ')\n",
    "    else:\n",
    "        return np.NaN\n",
    "\n",
    "df['Studio'] = df['Studio'].astype(str).str.replace(\"'\", \"\")\n",
    "df['Studio'] = df['Studio'].astype(str).str.replace(\"[\", \"\")\n",
    "df['Studio'] = df['Studio'].astype(str).str.replace(\"]\", \"\")\n",
    "df['Tags'] = df['Tags'].astype(str).str.replace(\"'\", \"\")\n",
    "df['Tags'] = df['Tags'].astype(str).str.replace(\"[\", \"\")\n",
    "df['Tags'] = df['Tags'].astype(str).str.replace(\"]\", \"\")"
   ]
  },
  {
   "cell_type": "code",
   "execution_count": null,
   "metadata": {},
   "outputs": [],
   "source": [
    "def backslash_remover(each):\n",
    "    listy = []\n",
    "    if type(each) != float:\n",
    "        for tag in list(each):\n",
    "            listy.append(tag.replace(\"\\\\n\", \"\").replace(\"\\\\\", \"\"))\n",
    "        return listy\n",
    "    else:\n",
    "        return np.NaN\n",
    "\n",
    "df['Tags'] = df['Tags'].apply(backslash_remover)"
   ]
  },
  {
   "cell_type": "code",
   "execution_count": null,
   "metadata": {},
   "outputs": [],
   "source": [
    "missing_values = [\"na\", \"['na']\", \"['nan']\"]\n",
    "#df = pd.read_csv('./anime_list1.csv', dtype = {'Votes':'float32', 'Episodes':'float16', 'Duration':'float16', 'Completed':'bool'}, na_values=missing_values, sep=';')\n",
    "#df.to_csv(\"anime_list1.csv\", sep=';', index=False)"
   ]
  },
  {
   "cell_type": "code",
   "execution_count": null,
   "metadata": {},
   "outputs": [],
   "source": [
    "def split_list(stringy):\n",
    "    if stringy != np.NaN:\n",
    "        stringy = str(stringy).replace(\"'\", \"\").replace(\"[\", \"\").replace( \"]\", \"\")\n",
    "        return str(stringy).split(', ')\n",
    "    else:\n",
    "        return np.NaN\n",
    "\n",
    "def nullifier(each):\n",
    "    if 'nan' in each:\n",
    "        return np.NaN    \n",
    "    else:\n",
    "        return each\n",
    "    \n",
    "df['Studio'] = df['Studio'].apply(split_list).apply(nullifier)\n",
    "df['Tags'] = df['Tags'].apply(split_list).apply(nullifier)\n",
    "\n",
    "df['Format'] = df['Format'].astype('category')\n",
    "df['Start Year'] = df['Start Year'].astype('category')\n",
    "df['End Year'] = df['End Year'].astype('category')\n",
    "\n",
    "def formatter(each):\n",
    "    if str(each) == 'nan':\n",
    "        return np.NaN\n",
    "    else:\n",
    "        return '%2.0f' % float(each)\n",
    "\n",
    "df['Start Year'] = df['Start Year'].apply(formatter)\n",
    "df['End Year'] = df['End Year'].apply(formatter)\n",
    "df['Votes'] = df['Votes'].apply(formatter)\n",
    "df['Episodes'] = df['Episodes'].apply(formatter)\n",
    "df['Duration'] = df['Duration'].apply(formatter)"
   ]
  }
 ],
 "metadata": {
  "kernelspec": {
   "display_name": "Python 3",
   "language": "python",
   "name": "python3"
  },
  "language_info": {
   "codemirror_mode": {
    "name": "ipython",
    "version": 3
   },
   "file_extension": ".py",
   "mimetype": "text/x-python",
   "name": "python",
   "nbconvert_exporter": "python",
   "pygments_lexer": "ipython3",
   "version": "3.7.1"
  }
 },
 "nbformat": 4,
 "nbformat_minor": 2
}
